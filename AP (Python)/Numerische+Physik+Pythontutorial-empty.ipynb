{
 "cells": [
  {
   "cell_type": "markdown",
   "metadata": {},
   "source": [
    "# Python Tutorial in Jupyter Notebooks\n",
    "Dieses Notebook dient als Hilfe für den Einstieg in Python. Lösungen werden nach der Übung bereitgestellt."
   ]
  },
  {
   "cell_type": "markdown",
   "metadata": {},
   "source": [
    "# 1. Bibliotheken aufrufen\n",
    "Python selbst bietet schon eine Menge an Bibliotheken, jedoch ist es oft sinnvoll schon vorgefertigte Bibliotheken zu benutzen. Im unteren Feld seht Ihr wie man Bibliotheken hinzufügt. Dies wird in Punkt 5 nochmal aufgegriffen."
   ]
  },
  {
   "cell_type": "code",
   "execution_count": 12,
   "metadata": {},
   "outputs": [],
   "source": [
    "import numpy as np # Numpy ist eine Standard Bibliothek zum numerischen rechnen. \n",
    "#Das Aufrufen wird später nochmal gezeigt.\n",
    "from numpy.linalg import eigh  # Dies importiert nur eine Routine\n",
    "import matplotlib.pyplot as plt  # Dies ist nötig zum Plotten."
   ]
  },
  {
   "cell_type": "markdown",
   "metadata": {},
   "source": [
    "# 2. Datentypen \n",
    "Beim Programmieren gibt es unterschiedliche Datentypen. Das kann man sich so vorstellen, dass der Computer wissen möchte, ob er jetzt eine Zahl mit oder ohne Nachkommastellen oder einen Buchstaben bekommt. Für den Computer gibt es folgende Datentypen:\n",
    "* ganzahlige Werte (int)\n",
    "* Fließkommawerte (float)\n",
    "* logische Werte (bool)\n",
    "* komplexe Werte (complex)\n",
    "* Buchstaben und Zeichen (strings)\n",
    "\n",
    "In Python ist dies sehr einfach, da dies automatisch über die erste Variablenzuweisung geschieht. Siehe folgendes Beispiel: \n"
   ]
  },
  {
   "cell_type": "code",
   "execution_count": 13,
   "metadata": {},
   "outputs": [
    {
     "ename": "IndentationError",
     "evalue": "unexpected indent (<ipython-input-13-65b5d605cca9>, line 2)",
     "output_type": "error",
     "traceback": [
      "\u001b[1;36m  File \u001b[1;32m\"<ipython-input-13-65b5d605cca9>\"\u001b[1;36m, line \u001b[1;32m2\u001b[0m\n\u001b[1;33m    a = 23                    # ganzahliger Wert int\u001b[0m\n\u001b[1;37m    ^\u001b[0m\n\u001b[1;31mIndentationError\u001b[0m\u001b[1;31m:\u001b[0m unexpected indent\n"
     ]
    }
   ],
   "source": [
    "# Hier schreiben\n",
    "             a = 23                    # ganzahliger Wert int\n",
    "             a = 1.2                   # Fließkommazahl (float)\n",
    "             a, b = 1, 20              # Mehrfachzuweisung\n",
    "             c = 2.3+ 4.5j             # komplexe Zahl\n",
    "             text = 'Hallo'            # string\n",
    "             wahr, falsch = True, False # logischer Wert bool "
   ]
  },
  {
   "cell_type": "markdown",
   "metadata": {},
   "source": [
    "## 2.1 Ausgabe der Datentypen\n",
    "Wir wollen auch sehen welchen Wert eine Variable zu einem Zeitpunkt besitzt. Dazu benutzen wir den print() Befehl."
   ]
  },
  {
   "cell_type": "code",
   "execution_count": 14,
   "metadata": {},
   "outputs": [
    {
     "name": "stdout",
     "output_type": "stream",
     "text": [
      "3\n"
     ]
    }
   ],
   "source": [
    "# Hier schreiben\n",
    "a = 3  # Weisen Sie variable a einen int Wert zu\n",
    "print(a)  # Ausgabe von a mit print() \n",
    "# oder besser mit einem kleinen Kommentar versehen\n",
    "# Code muss immer am Anfang der Zeile stehen, sonst gibt es einen Fehler"
   ]
  },
  {
   "cell_type": "code",
   "execution_count": 15,
   "metadata": {},
   "outputs": [
    {
     "name": "stdout",
     "output_type": "stream",
     "text": [
      "2.3\n",
      "integer =  2\n"
     ]
    }
   ],
   "source": [
    "# Hier schreiben\n",
    "a = 2.3 # Weisen Sie a eine Fließkommazahl zahl zu\n",
    "print(a) # Geb Sie a mit print() aus.\n",
    "a = int(2.3) # zwingen Sie den Computer die Fließkommazahl a in eine ganzahlige Zahl umzuwandeln mit int()\n",
    "print('integer = ',a) # Geben Sie a aus print()"
   ]
  },
  {
   "cell_type": "markdown",
   "metadata": {},
   "source": [
    "## 2.2 Rechenoperationen\n",
    "Verschieden Datentypen lassen verschiedene Rechenoperationen zu. Die gängigsten für Zahlen sind:\n"
   ]
  },
  {
   "cell_type": "code",
   "execution_count": 16,
   "metadata": {},
   "outputs": [
    {
     "name": "stdout",
     "output_type": "stream",
     "text": [
      "Ergebnis Addition: 5\n",
      "Ergebnis Subtraktion: -1\n",
      "Ergebnis Multiplikation: 6\n",
      "Ergebnis Division: 0.6666666666666666\n",
      "Ergebnis modulo: 2\n",
      "Ergebnis Potenzieren 8\n"
     ]
    }
   ],
   "source": [
    "# Hier schreiben\n",
    "a=0\n",
    "a = 2 + 3          # + Addition\n",
    "print('Ergebnis Addition:',a)\n",
    "a = 2 - 3          # - Subtraktion \n",
    "print('Ergebnis Subtraktion:',a)\n",
    "a = 2 * 3          # * Multiplikation\n",
    "print('Ergebnis Multiplikation:',a)\n",
    "a = 2 / 3          # / Division\n",
    "print('Ergebnis Division:',a)\n",
    "a = 2 % 3          # % modulo\n",
    "print('Ergebnis modulo:',a)\n",
    "a = 2**3          # ** Potenzieren\n",
    "print('Ergebnis Potenzieren',a)"
   ]
  },
  {
   "cell_type": "markdown",
   "metadata": {},
   "source": [
    "Man kann aber auch strings addieren z.B."
   ]
  },
  {
   "cell_type": "code",
   "execution_count": 17,
   "metadata": {},
   "outputs": [
    {
     "name": "stdout",
     "output_type": "stream",
     "text": [
      "Hallo Welt\n"
     ]
    }
   ],
   "source": [
    "# Hier schreiben\n",
    "text = 'Hallo' + ' ' + 'Welt'# Addieren Sie 'Hallo' + ' ' + 'Welt'\n",
    "print(text)"
   ]
  },
  {
   "cell_type": "markdown",
   "metadata": {},
   "source": [
    "## 2.3 Zuweisung und Rechenoperation zusammen\n",
    "Es ist manchmal nötig eine Variable zu überschreiben und ihren alten Wert für den neuen zu benutzen. Dies geht in folgender Weise:"
   ]
  },
  {
   "cell_type": "code",
   "execution_count": 19,
   "metadata": {},
   "outputs": [
    {
     "name": "stdout",
     "output_type": "stream",
     "text": [
      "a = a + 1 -> 2\n",
      "a += 99 -> 100\n"
     ]
    }
   ],
   "source": [
    "# Hier schreiben\n",
    "a = 1\n",
    "a = a + 1\n",
    "print('a = a + 1 ->', a )\n",
    "# oder\n",
    "a = 1\n",
    "a += 99\n",
    "print('a += 99 ->', a )\n",
    "#Natürlich geht dies auch mit - * ** und / "
   ]
  },
  {
   "cell_type": "markdown",
   "metadata": {},
   "source": [
    "## 2.4 Komplexere Datentypen\n",
    "Sind zum Beispiel Listen, Tupel und Wörterbücher"
   ]
  },
  {
   "cell_type": "code",
   "execution_count": null,
   "metadata": {},
   "outputs": [],
   "source": [
    "liste = []    # leere Liste  \n",
    "tupel = ()    # leeres Tupel\n",
    "menge = {}    # leere Menge\n",
    "wbuch = {}    # leeres Wörterbuch\n",
    "# können auch so aufgerufen werden\n",
    "liste = list()   # leere Liste  \n",
    "tupel = tuple()  # leeres Tupel\n",
    "menge = set()    # leere Menge\n",
    "wbuch = dict()   # leeres Wörterbuch"
   ]
  },
  {
   "cell_type": "markdown",
   "metadata": {},
   "source": [
    "## 2.5 Listen\n",
    "Speichern die eingebenen Werte an einem Ort, dabei bekommt jeder Wert einen Index. Es ist egal, ob es sich um ganze Zahlen, strings oder andere Listen handelt. Listen lassen sich auch nachträglich erweitern oder umadressieren."
   ]
  },
  {
   "cell_type": "code",
   "execution_count": 21,
   "metadata": {},
   "outputs": [
    {
     "name": "stdout",
     "output_type": "stream",
     "text": [
      "Ausgabe von werte [1, 2, 3.11]\n",
      "Der dritte Wert von werte ist 3.11\n",
      "Werte nach Erweiterung [1, 2, 3.11, 'Welt']\n",
      "Werte nach einfügen an dem 4ten ort [1, 2, 3.11, 'Hallo', 'Welt']\n"
     ]
    }
   ],
   "source": [
    "# Hier schreiben\n",
    "werte = [1,2,3.11]               # erstellen Sie eine Liste mit den Werten 1,2, 3.11 \n",
    "print('Ausgabe von werte', werte)\n",
    "print('Der dritte Wert von werte ist', werte[2]) # einzelner Aufruf vom dritten Wert. Der Index beginnt bei 0!\n",
    "werte.append('Welt')                # Fügen Sie das Wort Welt ans ende der Liste. Nutzen Sie dafür werte.append() \n",
    "print('Werte nach Erweiterung', werte)\n",
    "werte.insert(3,'Hallo')                # Fügen Sie das Wort Hallo an die 4te Stelle der Liste.\n",
    "print('Werte nach einfügen an dem 4ten ort', werte)"
   ]
  },
  {
   "cell_type": "markdown",
   "metadata": {},
   "source": [
    "## 2.6 Menge\n",
    "Sind so zu behandeln wie mathematische Mengen. Dies wird nur kurz angesprochen, da wir hauptsächlich mit Listen bzw. später mit numpy arrays arbeiten. "
   ]
  },
  {
   "cell_type": "code",
   "execution_count": 10,
   "metadata": {},
   "outputs": [
    {
     "name": "stdout",
     "output_type": "stream",
     "text": [
      "Differenzmenge {'a'}\n",
      "Vereinigungsmenge {'a', 'b', 'd', 'c'}\n",
      "Schnittmenge {'c', 'b'}\n"
     ]
    }
   ],
   "source": [
    "t1 = set('abc')\n",
    "t2 = set('bcd')\n",
    "print('Differenzmenge', t1 - t2) # Differenzmenge\n",
    "print('Vereinigungsmenge', t1 | t2) # Vereinigungsmenge\n",
    "print('Schnittmenge', t1 & t2) # Schnittmenge"
   ]
  },
  {
   "cell_type": "markdown",
   "metadata": {},
   "source": [
    "## 2.7 Wörterbücher\n",
    "Es ist manchmal sinnvoll einzelne Werte zu bennenen. Z.B. wenn man Datensätze verwalten möchte."
   ]
  },
  {
   "cell_type": "code",
   "execution_count": 11,
   "metadata": {},
   "outputs": [
    {
     "name": "stdout",
     "output_type": "stream",
     "text": [
      "Die Einwohnerzahl von Gießen ist 75000\n",
      "{'Giessen': 75000, 'Marburg': 60000, 'Kaiserslautern': 100000}\n"
     ]
    }
   ],
   "source": [
    "staedte ={'Giessen' : 75000, 'Marburg' : 60000}\n",
    "print(\"Die Einwohnerzahl von Gießen ist\",staedte['Giessen'])\n",
    "# Man kann auch neue Städte hinzufügen mit\n",
    "staedte['Kaiserslautern'] = 100000\n",
    "print(staedte)"
   ]
  },
  {
   "cell_type": "markdown",
   "metadata": {},
   "source": [
    "## 3 Abfragen und Schleifen\n",
    "Man möchte, dass der Computer einem Arbeit abnimmt. Aber oft kommt es vor, dass man eine Sache abfragen muss.\n",
    "Dabei ist in Python allgemein zu beachten, dass\n",
    "nach jedem Doppelpunkt eingerückt werden muss (TAB). Normalerweise wird das automatisch von dem Editor gemacht. Ansonsten genügt auch ein Leerzeichen oder mehrere Leerzeichen, es muss jedoch konsistent gehalten werden. "
   ]
  },
  {
   "cell_type": "code",
   "execution_count": 22,
   "metadata": {},
   "outputs": [
    {
     "name": "stdout",
     "output_type": "stream",
     "text": [
      "Ihre Eingabe dür a = 2\n",
      "Der Wert ist kleiner oder gleich 2\n",
      "Der Wert ist kleiner oder gleich 2\n",
      "Geben Sie ja oder nein ein j\n",
      "Ja\n"
     ]
    }
   ],
   "source": [
    "# Hier schreiben\n",
    "#if-Anweisung\n",
    "a = int(input('Ihre Eingabe dür a = ')) \n",
    "if a <= 2:    \n",
    "    print('Der Wert ist kleiner oder gleich 2')\n",
    "#if-Anweisung mit einer Alternative\n",
    "if a <= 2:    \n",
    "    print('Der Wert ist kleiner oder gleich 2')\n",
    "else:\n",
    "    print('Der Wert ist größer 2')\n",
    "\n",
    "#if-Anweisung mit mehreren Alternativen\n",
    "auswahl = input('Geben Sie ja oder nein ein ')\n",
    "if auswahl in [\"ja\",\"Ja\",\"j\"]:\n",
    "    print(\"Ja\")\n",
    "elif auswahl in [\"Nein\",\"nein\",\"n\"]:\n",
    "    print(\"Nein\")\n",
    "else:\n",
    "    print(\"Ungültig\")\n",
    "                  # Checken Sie ob ja oder nein angegeben wurde [\"Ja\",\"ja\", \"j\"],[\"Nein\", \"nein\", \"n\"]\n"
   ]
  },
  {
   "cell_type": "markdown",
   "metadata": {},
   "source": [
    "## 3.1 For Schleife\n",
    "Ist eine der wichtigsten Schleifen für Numerik. Es wird iterativ ein Vorgang abgearbeitet."
   ]
  },
  {
   "cell_type": "code",
   "execution_count": 27,
   "metadata": {},
   "outputs": [
    {
     "name": "stdout",
     "output_type": "stream",
     "text": [
      "1\n",
      "3\n",
      "5\n",
      "1\n",
      "2\n",
      "3\n",
      "4\n",
      "Summe 210\n"
     ]
    }
   ],
   "source": [
    "# Hier schreiben\n",
    "#for-Anweisung mit range()\n",
    "for i in [1,3,5]:\n",
    "    print(i)\n",
    "#for-Anweisung mit range()\n",
    "summe = 0\n",
    "for i in range(1,5):\n",
    "    print(i)\n",
    "# Erstellen Sie eine Summe die von 1 bis 20 alle zahlen addiert\n",
    "for i in range(1,21):\n",
    "    summe += i\n",
    "print('Summe',summe)\n",
    "#for-Anweisung über Objekt"
   ]
  },
  {
   "cell_type": "markdown",
   "metadata": {},
   "source": [
    "# 3.2 While Schleife\n",
    "Dies sind Schleifen mit Abbruchbedingung. Oft werden sie mit logischen bool Operationen verknüpft."
   ]
  },
  {
   "cell_type": "code",
   "execution_count": 26,
   "metadata": {},
   "outputs": [
    {
     "name": "stdout",
     "output_type": "stream",
     "text": [
      "Summe 210\n",
      "Summe abbruch 211\n"
     ]
    }
   ],
   "source": [
    "# Hier schreiben\n",
    "summe = 0\n",
    "# Erstellen Sie die selbe Schleife, die alle Zahlen von 1 bis 20 addiert, nur mit while.\n",
    "i = 1\n",
    "while i <= 20:\n",
    "    summe = summe + i\n",
    "    i+= 1\n",
    "print('Summe',summe)    \n",
    "\n",
    "# Booleans, wahr und falsch. Korrigieren Sie diese Schleife, sodass 210 als Ergebnis erscheint.\n",
    "Bedingung = True\n",
    "while Bedingung:\n",
    "    i=1\n",
    "    summe = summe + i \n",
    "    if summe > 210: Bedingung = False\n",
    "print('Summe abbruch',summe) "
   ]
  },
  {
   "cell_type": "markdown",
   "metadata": {},
   "source": [
    "# 4 Funktionen\n",
    "Komplexere Aufgaben möchte man nur einmal programmieren, deswegen schreibt man Funktionen, die man immer wieder aufrufen kann."
   ]
  },
  {
   "cell_type": "code",
   "execution_count": 28,
   "metadata": {},
   "outputs": [
    {
     "name": "stdout",
     "output_type": "stream",
     "text": [
      "Wir vergleichen zwei Zahlen, bitte ungleiche Zahlen eingeben.\n",
      "Bitte die erste Zahl eingeben für a=3\n",
      "Bitte die zweite Zahl eingeben für b=3\n",
      "Oh nein, die Zahlen sind gleich.\n"
     ]
    },
    {
     "data": {
      "text/plain": [
       "'3'"
      ]
     },
     "execution_count": 28,
     "metadata": {},
     "output_type": "execute_result"
    }
   ],
   "source": [
    "def komplexeaufgabe(a=1,b=1):\n",
    "    if a == b:\n",
    "        print('Oh nein, die Zahlen sind gleich.')\n",
    "    if a != b:\n",
    "        print('Perfekt, die Zahlen sind ungleich.')\n",
    "    #return gibt der Funktion Wert zurück    \n",
    "    return a #Hier ohne Effekt\n",
    "print('Wir vergleichen zwei Zahlen, bitte ungleiche Zahlen eingeben.')\n",
    "a=input('Bitte die erste Zahl eingeben für a=')\n",
    "b=input('Bitte die zweite Zahl eingeben für b=')\n",
    "komplexeaufgabe(a,b)"
   ]
  },
  {
   "cell_type": "markdown",
   "metadata": {},
   "source": [
    "# 5 Komplexeres, Numpy und Matplotlib\n",
    "Python unterstützt von sich aus nur simplere Mathematik. Da ist es sinnvoll schon bereits fertige Pakete zu benutzen. Hier nutzen wir numpy zum rechnen und anschließend Matplotlib zum Plotten."
   ]
  },
  {
   "cell_type": "code",
   "execution_count": 36,
   "metadata": {},
   "outputs": [],
   "source": [
    "import numpy as np\n",
    "import matplotlib.pyplot as plt\n",
    "from numpy.linalg import*\n",
    "# Nür nötig für jupyter Notebooks. Die plots werden direkt im Browser ausgegeben.\n",
    "%matplotlib inline       "
   ]
  },
  {
   "cell_type": "markdown",
   "metadata": {},
   "source": [
    "### Matrizen erzeugen und Matrixmultiplikation"
   ]
  },
  {
   "cell_type": "code",
   "execution_count": 29,
   "metadata": {},
   "outputs": [
    {
     "name": "stdout",
     "output_type": "stream",
     "text": [
      "leere Matrix\n",
      " []\n",
      "0-Matrix\n",
      " [[0. 0.]\n",
      " [0. 0.]]\n",
      "setze den ersten Eintrag 1\n",
      " [[1. 0.]\n",
      " [0. 0.]]\n",
      "beliebige Matrix\n",
      " [[1 2]\n",
      " [3 4]]\n",
      "Matrix quadrat\n",
      " [[ 7 10]\n",
      " [15 22]]\n",
      "Elementweises Multiplizieren\n",
      " [[ 1  4]\n",
      " [ 9 16]]\n"
     ]
    }
   ],
   "source": [
    "# Eine Matrix kann man nun bauen wie folgt:\n",
    "matrix = np.array([])            # leere Matrix (Achtung es gibt auch np.matrix([]), wird jedoch abgeschaft.)\n",
    "print('leere Matrix\\n',matrix)\n",
    "matrix = np.zeros([2,2])    # 0-Matrix\n",
    "print('0-Matrix\\n',matrix)\n",
    "matrix[0,0] = 1         # setze den ersten Eintrag 1\n",
    "print('setze den ersten Eintrag 1\\n',matrix)\n",
    "matrix = np.array([[1,2],[3,4]]) # simple Matrix\n",
    "print('beliebige Matrix\\n',matrix)\n",
    "quadrat = matrix @ matrix\n",
    "print('Matrix quadrat\\n',quadrat)\n",
    "Elementweise = matrix * matrix\n",
    "print('Elementweises Multiplizieren\\n',Elementweise)"
   ]
  },
  {
   "cell_type": "markdown",
   "metadata": {},
   "source": [
    "### Transponieren, Determinate, Inverse und slice-Funktion\n",
    "Wir betrachten die Matrizen\n",
    "$\n",
    "A =\\begin{pmatrix}\n",
    "1 & 2\\\\\n",
    "3 & 4\n",
    "\\end{pmatrix}\n",
    "$\n",
    "und \n",
    "$\n",
    "B =\\begin{pmatrix}\n",
    "1 & 2 & 1\\\\\n",
    "2 & -1 & -2 \\\\\n",
    "1 & -2 & 2\n",
    "\\end{pmatrix}\n",
    "$.\n",
    "Berechne die Transponierten $A^\\mathrm{T}$, $B^\\mathrm{T}$, die Determinanten $\\mathrm{det}(A)$, $\\mathrm{det}(B)$ sowie die Inversen $A^{-1}$, $B^{-1}$."
   ]
  },
  {
   "cell_type": "code",
   "execution_count": 48,
   "metadata": {},
   "outputs": [
    {
     "name": "stdout",
     "output_type": "stream",
     "text": [
      "Transponierte von A:\n",
      " [[1 3]\n",
      " [2 4]]\n",
      "Inverse von A:\n",
      " [[-2.   1. ]\n",
      " [ 1.5 -0.5]]\n",
      "Test:\n",
      " [[1.0000000e+00 4.4408921e-16]\n",
      " [0.0000000e+00 1.0000000e+00]]\n",
      "Determinate von A:\n",
      " -2.0000000000000004\n",
      "erste Spalte von A:\n",
      " [1 3]\n",
      "Transponierte von B:\n",
      " 3\n",
      "Inverse von B:\n",
      " [[ 0.28571429  0.28571429  0.14285714]\n",
      " [ 0.28571429 -0.04761905 -0.19047619]\n",
      " [ 0.14285714 -0.19047619  0.23809524]]\n",
      "Test:\n",
      " [[ 1.00000000e+00  0.00000000e+00  0.00000000e+00]\n",
      " [-2.77555756e-17  1.00000000e+00  0.00000000e+00]\n",
      " [ 0.00000000e+00  0.00000000e+00  1.00000000e+00]]\n",
      "Determinate von B:\n",
      " -21.00000000000001\n",
      "zweite Spalte von B:\n",
      " [ 2 -1 -2]\n"
     ]
    }
   ],
   "source": [
    "import numpy as np\n",
    "from numpy.linalg import *\n",
    "A = np.array([[1,2],[3,4]])\n",
    "B = np.array([[1,2,1],[2,-1,-2],[1,-2,2]])\n",
    "\n",
    "print('Transponierte von A:\\n',np.transpose(A))          #Transponierte von A\n",
    "print('Inverse von A:\\n',np.linalg.inv(A))                # Inverse von A\n",
    "print('Test:\\n',inv(A)@A)                         # Test A^(-1)*A, np wird nicht benötigt, da np.linalg bereits vollständig importiert ist\n",
    "print('Determinate von A:\\n',np.linalg.det(A))            # Determinante von A\n",
    "print('erste Spalte von A:\\n',A[:,0])           # erste Spalte von A\n",
    "\n",
    "print('Transponierte von B:\\n',np.transpose(b))           #Transponierte von B\n",
    "print('Inverse von B:\\n',inv(B))                 # Inverse von B\n",
    "print('Test:\\n',inv(B)@B)                          # Test B^(-1)*B\n",
    "print('Determinate von B:\\n',det(B))             # Determinante von B\n",
    "print('zweite Spalte von B:\\n',B[:,1])           # erste Spalte von B"
   ]
  },
  {
   "cell_type": "markdown",
   "metadata": {},
   "source": [
    "### Eigenwerte und Eigenvektoren\n",
    "Wir betrachten wieder die Matrizen\n",
    "$\n",
    "A =\\begin{pmatrix}\n",
    "1 & 2\\\\\n",
    "3 & 4\n",
    "\\end{pmatrix}\n",
    "$\n",
    "und \n",
    "$\n",
    "B =\\begin{pmatrix}\n",
    "1 & 2 & 1\\\\\n",
    "2 & -1 & -2 \\\\\n",
    "1 & -2 & 2\n",
    "\\end{pmatrix}\n",
    "$. Berechne für diese beiden Matrizen die Eigenwerte,- und vektoren aus und zeige anschließend, dass\n",
    "$A = U_A D_A U_A^{-1}$ und $B = U_B D_B U_B^{-1}$, wobei $D_{A/B}$ eine Diagonalmatrix mit den entsprechenden Eigenwerten ist und $U_{A/B}$ die Eigenvektoren als Spalteneintrag haben."
   ]
  },
  {
   "cell_type": "code",
   "execution_count": 54,
   "metadata": {},
   "outputs": [
    {
     "name": "stdout",
     "output_type": "stream",
     "text": [
      "A = \n",
      " [1 3]\n",
      "Eigenwerte: [-0.37228132  5.37228132]\n",
      "Eigenvektoren: [[-0.82456484 -0.41597356]\n",
      " [ 0.56576746 -0.90937671]]\n",
      "Test Diagonalisierung\n",
      " [[1. 2.]\n",
      " [3. 4.]]\n"
     ]
    }
   ],
   "source": [
    "A = np.array([[1,2],[3,4]])\n",
    "B = np.array([[1,2,1],[2,-1,-2],[1,-2,2]])\n",
    "\n",
    "# Eigenwerte und -vektoren für A\n",
    "ew_A,ev_A = eig(A)   # Achtung: Eigenvektoren werden spaltenweise ausgegeben\n",
    "D_A = np.diag(ew_A)         # Diagonalmatrix der Eigenwerte\n",
    "U_A = ev_A         # Matrix U_A\n",
    "Atest = U_A@D_A@inv(U_A)       # Test, ob Diagonalisierung stimmt\n",
    "\n",
    "print('A = \\n',A[:,0])\n",
    "print('Eigenwerte:',ew_A)\n",
    "print('Eigenvektoren:', ev_A)\n",
    "print('Test Diagonalisierung\\n',Atest)\n",
    "\n",
    "# Eigenwerte und -vektoren für B\n",
    "ew_A,ev_A = eig(B)"
   ]
  },
  {
   "cell_type": "markdown",
   "metadata": {},
   "source": [
    "### Plotten"
   ]
  },
  {
   "cell_type": "code",
   "execution_count": 5,
   "metadata": {},
   "outputs": [
    {
     "name": "stdout",
     "output_type": "stream",
     "text": [
      "[0 1 2 3 4 5 6 7]\n",
      "[ 0  1  3  6 10 15 21 28]\n"
     ]
    },
    {
     "data": {
      "text/plain": [
       "<matplotlib.legend.Legend at 0x1df59f0ceb8>"
      ]
     },
     "execution_count": 5,
     "metadata": {},
     "output_type": "execute_result"
    },
    {
     "data": {
      "image/png": "[encoded data removed]",
      "text/plain": [
       "<Figure size 432x288 with 1 Axes>"
      ]
     },
     "metadata": {
      "needs_background": "light"
     },
     "output_type": "display_data"
    }
   ],
   "source": [
    "# Vektor [0,1,2,3,4,5,6,7]\n",
    "vektor = np.arange(8)\n",
    "print(vektor)\n",
    "plt.plot(vektor, vektor,label='Vektor')\n",
    "vektorcumsum = np.cumsum(vektor) # kummulative summe des Vektors\n",
    "plt.plot(vektor, vektorcumsum,label ='Vektorsumme')\n",
    "print(vektorcumsum)\n",
    "plt.title('Testabbildung')\n",
    "plt.xlabel('x-Achse')\n",
    "plt.ylabel('y-Achse')\n",
    "plt.legend()"
   ]
  },
  {
   "cell_type": "markdown",
   "metadata": {},
   "source": [
    "# 6 Help Funktion\n",
    "Wenn man schnell etwas sucht, ist es ratsam, sich erstmal help anzuschauen. Danach kann man auch im Internet suchen. Python hat eine sehr aktive Community."
   ]
  },
  {
   "cell_type": "code",
   "execution_count": null,
   "metadata": {},
   "outputs": [],
   "source": [
    "help(np.linalg)"
   ]
  }
 ],
 "metadata": {
  "kernelspec": {
   "display_name": "Python 3",
   "language": "python",
   "name": "python3"
  },
  "language_info": {
   "codemirror_mode": {
    "name": "ipython",
    "version": 3
   },
   "file_extension": ".py",
   "mimetype": "text/x-python",
   "name": "python",
   "nbconvert_exporter": "python",
   "pygments_lexer": "ipython3",
   "version": "3.7.4"
  }
 },
 "nbformat": 4,
 "nbformat_minor": 2
}
