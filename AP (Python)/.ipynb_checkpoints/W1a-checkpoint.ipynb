{
 "cells": [
  {
   "cell_type": "code",
   "execution_count": 57,
   "metadata": {},
   "outputs": [
    {
     "data": {
      "image/png": "[encoded data removed]",
      "text/plain": [
       "<Figure size 432x288 with 1 Axes>"
      ]
     },
     "metadata": {
      "needs_background": "light"
     },
     "output_type": "display_data"
    }
   ],
   "source": [
    "import numpy as np\n",
    "from matplotlib import pyplot as plot\n",
    "from scipy.optimize import curve_fit\n",
    "\n",
    "beamData = np.loadtxt(\"W1a_1_data.csv\", delimiter=\",\")\n",
    "\n",
    "#plot.plot(beamData[:,1],beamData[:,0],'.',label=\"Geschwindigkeitsmessungen\")\n",
    "s = 0\n",
    "\n",
    "#plot.plot((beamData[:,0]),(beamData[:,1]-s),label=\"Schwingungskurve\",linewidth=0.7)\n",
    "plot.title(\"\")\n",
    "xerr = [0.1 for i in range(1,26)]\n",
    "yerr = [0.1 for i in range(1,26)]\n",
    "#plot.axis([0, 3800, -100, 100])\n",
    "plot.errorbar((beamData[:,0]),(beamData[:,1]-s),yerr,xerr,fmt='o',markersize=3,label=\"Temperaturmessungen mit Fehler\",color=\"Black\")\n",
    "plot.grid(True)\n",
    "plot.xlabel(\"Zeit t in $s$\")\n",
    "plot.ylabel(\"Temperatur T im Kalorimeter in $°C$\")\n",
    "plot.legend()\n",
    "plot.show()"
   ]
  },
  {
   "cell_type": "code",
   "execution_count": 42,
   "metadata": {},
   "outputs": [
    {
     "name": "stdout",
     "output_type": "stream",
     "text": [
      "121.3178893280634\n"
     ]
    }
   ],
   "source": [
    "from sympy import *\n",
    "\n",
    "mw = Symbol('mw')\n",
    "Tw = Symbol('Tw')\n",
    "Tm = Symbol('Tm')\n",
    "Tk = Symbol('Tk')\n",
    "mk = Symbol('mk')\n",
    "cwas = Symbol('cwas')\n",
    "\n",
    "Ckal1 = (mw * cwas * (Tw - Tm) - mk * cwas * (Tm - Tk)) / (Tm - Tk)\n",
    "Ckal2 = (mw * cwas * (Tw - Tm) - mk * cwas * (Tm - Tk)) / (Tm - Tk)\n",
    "\n",
    "Ckal_diffmw = Ckal2.diff(mw)\n",
    "Ckal_diffTw = Ckal2.diff(Tw)\n",
    "Ckal_diffTm = Ckal2.diff(Tm)\n",
    "Ckal_diffTk = Ckal2.diff(Tk)\n",
    "Ckal_diffmk = Ckal2.diff(mk)\n",
    "\n",
    "Ckal1 = lambdify([mw,Tw,Tm,Tk,mk,cwas],Ckal1)\n",
    "print(Ckal1(300.1,71.1,43.3,18,300.8,4.190))"
   ]
  },
  {
   "cell_type": "code",
   "execution_count": 38,
   "metadata": {},
   "outputs": [
    {
     "data": {
      "text/latex": [
       "$\\displaystyle \\frac{cwas \\left(- Tm + Tw\\right)}{- Tk + Tm}$"
      ],
      "text/plain": [
       "cwas*(-Tm + Tw)/(-Tk + Tm)"
      ]
     },
     "execution_count": 38,
     "metadata": {},
     "output_type": "execute_result"
    }
   ],
   "source": [
    "Ckal_diffmw"
   ]
  },
  {
   "cell_type": "code",
   "execution_count": 32,
   "metadata": {},
   "outputs": [
    {
     "data": {
      "text/latex": [
       "$\\displaystyle \\frac{cwas mw}{- Tk + Tm}$"
      ],
      "text/plain": [
       "cwas*mw/(-Tk + Tm)"
      ]
     },
     "execution_count": 32,
     "metadata": {},
     "output_type": "execute_result"
    }
   ],
   "source": [
    "Ckal_diffTw"
   ]
  },
  {
   "cell_type": "code",
   "execution_count": 19,
   "metadata": {},
   "outputs": [
    {
     "data": {
      "text/latex": [
       "$\\displaystyle \\frac{- cwas mk - cwas mw}{- Tk + Tm} - \\frac{- cwas mk \\left(- Tk + Tm\\right) + cwas mw \\left(- Tm + Tw\\right)}{\\left(- Tk + Tm\\right)^{2}}$"
      ],
      "text/plain": [
       "(-cwas*mk - cwas*mw)/(-Tk + Tm) - (-cwas*mk*(-Tk + Tm) + cwas*mw*(-Tm + Tw))/(-Tk + Tm)**2"
      ]
     },
     "execution_count": 19,
     "metadata": {},
     "output_type": "execute_result"
    }
   ],
   "source": [
    "Ckal_diffTm"
   ]
  },
  {
   "cell_type": "code",
   "execution_count": 20,
   "metadata": {},
   "outputs": [
    {
     "data": {
      "text/latex": [
       "$\\displaystyle \\frac{cwas mk}{- Tk + Tm} + \\frac{- cwas mk \\left(- Tk + Tm\\right) + cwas mw \\left(- Tm + Tw\\right)}{\\left(- Tk + Tm\\right)^{2}}$"
      ],
      "text/plain": [
       "cwas*mk/(-Tk + Tm) + (-cwas*mk*(-Tk + Tm) + cwas*mw*(-Tm + Tw))/(-Tk + Tm)**2"
      ]
     },
     "execution_count": 20,
     "metadata": {},
     "output_type": "execute_result"
    }
   ],
   "source": [
    "Ckal_diffTk"
   ]
  },
  {
   "cell_type": "code",
   "execution_count": 21,
   "metadata": {},
   "outputs": [
    {
     "data": {
      "text/latex": [
       "$\\displaystyle - cwas$"
      ],
      "text/plain": [
       "-cwas"
      ]
     },
     "execution_count": 21,
     "metadata": {},
     "output_type": "execute_result"
    }
   ],
   "source": [
    "Ckal_diffmk"
   ]
  },
  {
   "cell_type": "code",
   "execution_count": 35,
   "metadata": {
    "scrolled": false
   },
   "outputs": [
    {
     "name": "stdout",
     "output_type": "stream",
     "text": [
      "21.741765923542005\n"
     ]
    }
   ],
   "source": [
    "mistake = Abs(Ckal_diffmw) * 0.0001 + Abs(Ckal_diffTw) * 0.1 + Abs(Ckal_diffTm) * 0.1 + Abs(Ckal_diffTk) * 0.1 + Abs(Ckal_diffmk) * 0.0001\n",
    "mistake = lambdify([mw,Tw,Tm,Tk,mk,cwas],mistake)\n",
    "print(mistake(0.3001,71.1,43.3,18,0.3008,4190))"
   ]
  },
  {
   "cell_type": "code",
   "execution_count": 60,
   "metadata": {},
   "outputs": [
    {
     "data": {
      "image/png": "[encoded data removed]",
      "text/plain": [
       "<Figure size 432x288 with 1 Axes>"
      ]
     },
     "metadata": {
      "needs_background": "light"
     },
     "output_type": "display_data"
    }
   ],
   "source": [
    "import numpy as np\n",
    "from matplotlib import pyplot as plot\n",
    "from scipy.optimize import curve_fit\n",
    "\n",
    "beamData21 = np.loadtxt(\"W1a_2_Al_data.csv\", delimiter=\",\")\n",
    "\n",
    "#plot.plot(beamData[:,1],beamData[:,0],'.',label=\"Geschwindigkeitsmessungen\")\n",
    "s = 0\n",
    "\n",
    "#plot.plot((beamData[:,0]),(beamData[:,1]-s),label=\"Schwingungskurve\",linewidth=0.7)\n",
    "plot.title(\"Material: Aluminium\")\n",
    "xerr = [0.1 for i in range(1,32)]\n",
    "yerr = [0.1 for i in range(1,32)]\n",
    "#plot.axis([0, 3800, -100, 100])\n",
    "plot.errorbar((beamData21[:,0]),(beamData21[:,1]-s),yerr,xerr,fmt='o',markersize=3,label=\"Temperaturmessungen mit Fehler\",color=\"Black\")\n",
    "plot.grid(True)\n",
    "plot.xlabel(\"Zeit t in $s$\")\n",
    "plot.ylabel(\"Temperatur T im Kalorimeter in $°C$\")\n",
    "plot.legend()\n",
    "plot.show()"
   ]
  },
  {
   "cell_type": "code",
   "execution_count": 62,
   "metadata": {},
   "outputs": [
    {
     "data": {
      "image/png": "[encoded data removed]",
      "text/plain": [
       "<Figure size 432x288 with 1 Axes>"
      ]
     },
     "metadata": {
      "needs_background": "light"
     },
     "output_type": "display_data"
    }
   ],
   "source": [
    "import numpy as np\n",
    "from matplotlib import pyplot as plot\n",
    "from scipy.optimize import curve_fit\n",
    "\n",
    "beamData22 = np.loadtxt(\"W1a_2_Cu_data.csv\", delimiter=\",\")\n",
    "\n",
    "#plot.plot(beamData[:,1],beamData[:,0],'.',label=\"Geschwindigkeitsmessungen\")\n",
    "s = 0\n",
    "\n",
    "#plot.plot((beamData[:,0]),(beamData[:,1]-s),label=\"Schwingungskurve\",linewidth=0.7)\n",
    "plot.title(\"Material: Kupfer\")\n",
    "xerr = [0.1 for i in range(1,26)]\n",
    "yerr = [0.1 for i in range(1,26)]\n",
    "#plot.axis([0, 3800, -100, 100])\n",
    "plot.errorbar((beamData22[:,0]),(beamData22[:,1]-s),yerr,xerr,fmt='o',markersize=3,label=\"Temperaturmessungen mit Fehler\",color=\"Black\")\n",
    "plot.grid(True)\n",
    "plot.xlabel(\"Zeit t in $s$\")\n",
    "plot.ylabel(\"Temperatur T im Kalorimeter in $°C$\")\n",
    "plot.legend()\n",
    "plot.show()"
   ]
  },
  {
   "cell_type": "code",
   "execution_count": 63,
   "metadata": {},
   "outputs": [
    {
     "data": {
      "image/png": "[encoded data removed]",
      "text/plain": [
       "<Figure size 432x288 with 1 Axes>"
      ]
     },
     "metadata": {
      "needs_background": "light"
     },
     "output_type": "display_data"
    }
   ],
   "source": [
    "import numpy as np\n",
    "from matplotlib import pyplot as plot\n",
    "from scipy.optimize import curve_fit\n",
    "\n",
    "beamData23 = np.loadtxt(\"W1a_2_Stahl_data.csv\", delimiter=\",\")\n",
    "\n",
    "#plot.plot(beamData[:,1],beamData[:,0],'.',label=\"Geschwindigkeitsmessungen\")\n",
    "s = 0\n",
    "\n",
    "#plot.plot((beamData[:,0]),(beamData[:,1]-s),label=\"Schwingungskurve\",linewidth=0.7)\n",
    "plot.title(\"Material: Stahl\")\n",
    "xerr = [0.1 for i in range(1,32)]\n",
    "yerr = [0.1 for i in range(1,32)]\n",
    "#plot.axis([0, 3800, -100, 100])\n",
    "plot.errorbar((beamData23[:,0]),(beamData23[:,1]-s),yerr,xerr,fmt='o',markersize=3,label=\"Temperaturmessungen mit Fehler\",color=\"Black\")\n",
    "plot.grid(True)\n",
    "plot.xlabel(\"Zeit t in $s$\")\n",
    "plot.ylabel(\"Temperatur T im Kalorimeter in $°C$\")\n",
    "plot.legend()\n",
    "plot.show()"
   ]
  },
  {
   "cell_type": "code",
   "execution_count": 55,
   "metadata": {},
   "outputs": [
    {
     "data": {
      "text/plain": [
       "476.009887214221"
      ]
     },
     "execution_count": 55,
     "metadata": {},
     "output_type": "execute_result"
    }
   ],
   "source": [
    "from sympy import *\n",
    "\n",
    "c = Symbol('c')\n",
    "Tx = Symbol('Tx')\n",
    "Tm = Symbol('Tm')\n",
    "Tk = Symbol('Tk')\n",
    "mk = Symbol('mk')\n",
    "mx = Symbol('mx')\n",
    "cwas = 4190\n",
    "\n",
    "Cx1 = ((mk * cwas + c) * (Tm - Tk) ) / (mx * (Tx - Tm))\n",
    "Cx2 = ((mk * cwas + c) * (Tm - Tk) ) / (mx * (Tx - Tm))\n",
    "\n",
    "Cx1 = lambdify([mx,c,Tx,Tm,Tk,mk],Cx1)\n",
    "Cx1(0.3882,121.32,69.1,22,18.7,0.6005)"
   ]
  },
  {
   "cell_type": "code",
   "execution_count": 46,
   "metadata": {},
   "outputs": [],
   "source": [
    "Cx_diffmx = Cx2.diff(mx)\n",
    "Cx_diffc = Cx2.diff(c)\n",
    "Cx_diffTx = Cx2.diff(Tx)\n",
    "Cx_diffTm = Cx2.diff(Tm)\n",
    "Cx_diffTk = Cx2.diff(Tk)\n",
    "Cx_diffmk = Cx2.diff(mk)"
   ]
  },
  {
   "cell_type": "code",
   "execution_count": 47,
   "metadata": {},
   "outputs": [
    {
     "data": {
      "text/latex": [
       "$\\displaystyle - \\frac{\\left(- Tk + Tm\\right) \\left(c + 4190 mk\\right)}{mx^{2} \\left(- Tm + Tx\\right)}$"
      ],
      "text/plain": [
       "-(-Tk + Tm)*(c + 4190*mk)/(mx**2*(-Tm + Tx))"
      ]
     },
     "execution_count": 47,
     "metadata": {},
     "output_type": "execute_result"
    }
   ],
   "source": [
    "Cx_diffmx"
   ]
  },
  {
   "cell_type": "code",
   "execution_count": 48,
   "metadata": {},
   "outputs": [
    {
     "data": {
      "text/latex": [
       "$\\displaystyle \\frac{- Tk + Tm}{mx \\left(- Tm + Tx\\right)}$"
      ],
      "text/plain": [
       "(-Tk + Tm)/(mx*(-Tm + Tx))"
      ]
     },
     "execution_count": 48,
     "metadata": {},
     "output_type": "execute_result"
    }
   ],
   "source": [
    "Cx_diffc"
   ]
  },
  {
   "cell_type": "code",
   "execution_count": 49,
   "metadata": {},
   "outputs": [
    {
     "data": {
      "text/latex": [
       "$\\displaystyle - \\frac{\\left(- Tk + Tm\\right) \\left(c + 4190 mk\\right)}{mx \\left(- Tm + Tx\\right)^{2}}$"
      ],
      "text/plain": [
       "-(-Tk + Tm)*(c + 4190*mk)/(mx*(-Tm + Tx)**2)"
      ]
     },
     "execution_count": 49,
     "metadata": {},
     "output_type": "execute_result"
    }
   ],
   "source": [
    "Cx_diffTx"
   ]
  },
  {
   "cell_type": "code",
   "execution_count": 50,
   "metadata": {},
   "outputs": [
    {
     "data": {
      "text/latex": [
       "$\\displaystyle \\frac{\\left(- Tk + Tm\\right) \\left(c + 4190 mk\\right)}{mx \\left(- Tm + Tx\\right)^{2}} + \\frac{c + 4190 mk}{mx \\left(- Tm + Tx\\right)}$"
      ],
      "text/plain": [
       "(-Tk + Tm)*(c + 4190*mk)/(mx*(-Tm + Tx)**2) + (c + 4190*mk)/(mx*(-Tm + Tx))"
      ]
     },
     "execution_count": 50,
     "metadata": {},
     "output_type": "execute_result"
    }
   ],
   "source": [
    "Cx_diffTm"
   ]
  },
  {
   "cell_type": "code",
   "execution_count": 51,
   "metadata": {},
   "outputs": [
    {
     "data": {
      "text/latex": [
       "$\\displaystyle - \\frac{c + 4190 mk}{mx \\left(- Tm + Tx\\right)}$"
      ],
      "text/plain": [
       "-(c + 4190*mk)/(mx*(-Tm + Tx))"
      ]
     },
     "execution_count": 51,
     "metadata": {},
     "output_type": "execute_result"
    }
   ],
   "source": [
    "Cx_diffTk"
   ]
  },
  {
   "cell_type": "code",
   "execution_count": 52,
   "metadata": {},
   "outputs": [
    {
     "data": {
      "text/latex": [
       "$\\displaystyle \\frac{4190 \\left(- Tk + Tm\\right)}{mx \\left(- Tm + Tx\\right)}$"
      ],
      "text/plain": [
       "4190*(-Tk + Tm)/(mx*(-Tm + Tx))"
      ]
     },
     "execution_count": 52,
     "metadata": {},
     "output_type": "execute_result"
    }
   ],
   "source": [
    "Cx_diffmk"
   ]
  },
  {
   "cell_type": "code",
   "execution_count": 56,
   "metadata": {},
   "outputs": [
    {
     "name": "stdout",
     "output_type": "stream",
     "text": [
      "34.99231108639533\n"
     ]
    }
   ],
   "source": [
    "mistake = Abs(Cx_diffmx) * 0.0001 +  Abs(Cx_diffc) * 21.74 + Abs(Cx_diffTx) * 0.1 + Abs(Cx_diffTm) * 0.1 + Abs(Cx_diffTk) * 0.1 + Abs(Cx_diffmk) * 0.0001\n",
    "mistake = lambdify([mx,c,Tx,Tm,Tk,mk],mistake)\n",
    "print(mistake(0.3882,121.32,69.1,22,18.7,0.6005))"
   ]
  },
  {
   "cell_type": "code",
   "execution_count": 81,
   "metadata": {
    "scrolled": true
   },
   "outputs": [
    {
     "data": {
      "image/png": "[encoded data removed]",
      "text/plain": [
       "<Figure size 432x288 with 1 Axes>"
      ]
     },
     "metadata": {
      "needs_background": "light"
     },
     "output_type": "display_data"
    }
   ],
   "source": [
    "import numpy as np\n",
    "from matplotlib import pyplot as plot\n",
    "from scipy.optimize import curve_fit\n",
    "\n",
    "beamData31 = np.loadtxt(\"W1a_3_1_data.csv\", delimiter=\",\")\n",
    "\n",
    "#plot.plot(beamData[:,1],beamData[:,0],'.',label=\"Geschwindigkeitsmessungen\")\n",
    "s = 0\n",
    "\n",
    "#plot.plot((beamData[:,0]),(beamData[:,1]-s),label=\"Schwingungskurve\",linewidth=0.7)\n",
    "plot.title(\"\")\n",
    "xerr = [0.1 for i in range(1,26)]\n",
    "yerr = [0.1 for i in range(1,26)]\n",
    "#plot.axis([0, 3800, -100, 100])\n",
    "plot.errorbar((beamData31[:,0]),(beamData31[:,1]-s),yerr,xerr,fmt='o',markersize=3,label=\"Temperaturmessungen mit Fehler\",color=\"Black\")\n",
    "plot.grid(True)\n",
    "plot.xlabel(\"Zeit t in $s$\")\n",
    "plot.ylabel(\"Temperatur T im Kalorimeter in $°C$\")\n",
    "plot.legend()\n",
    "plot.show()"
   ]
  },
  {
   "cell_type": "code",
   "execution_count": 82,
   "metadata": {
    "scrolled": true
   },
   "outputs": [
    {
     "data": {
      "image/png": "[encoded data removed]",
      "text/plain": [
       "<Figure size 432x288 with 1 Axes>"
      ]
     },
     "metadata": {
      "needs_background": "light"
     },
     "output_type": "display_data"
    }
   ],
   "source": [
    "import numpy as np\n",
    "from matplotlib import pyplot as plot\n",
    "from scipy.optimize import curve_fit\n",
    "\n",
    "beamData32 = np.loadtxt(\"W1a_3_2_data.csv\", delimiter=\",\")\n",
    "\n",
    "#plot.plot(beamData[:,1],beamData[:,0],'.',label=\"Geschwindigkeitsmessungen\")\n",
    "s = 0\n",
    "\n",
    "#plot.plot((beamData[:,0]),(beamData[:,1]-s),label=\"Schwingungskurve\",linewidth=0.7)\n",
    "plot.title(\"\")\n",
    "xerr = [0.1 for i in range(1,26)]\n",
    "yerr = [0.1 for i in range(1,26)]\n",
    "#plot.axis([0, 3800, -100, 100])\n",
    "plot.errorbar((beamData32[:,0]),(beamData32[:,1]-s),yerr,xerr,fmt='o',markersize=3,label=\"Temperaturmessungen mit Fehler\",color=\"Black\")\n",
    "plot.grid(True)\n",
    "plot.xlabel(\"Zeit t in $s$\")\n",
    "plot.ylabel(\"Temperatur T im Kalorimeter in $°C$\")\n",
    "plot.legend()\n",
    "plot.show()"
   ]
  },
  {
   "cell_type": "code",
   "execution_count": 22,
   "metadata": {},
   "outputs": [
    {
     "name": "stdout",
     "output_type": "stream",
     "text": [
      "333681.7472118959\n"
     ]
    }
   ],
   "source": [
    "from sympy import *\n",
    "\n",
    "c = Symbol('c')\n",
    "TEis = Symbol('TEis')\n",
    "Tm = Symbol('Tm')\n",
    "Twas = Symbol('Twas')\n",
    "mEis = Symbol('mEis')\n",
    "mwas = Symbol('mwas')\n",
    "cwas = 4190\n",
    "\n",
    "q1 = ((mwas * cwas + c)*(Twas-Tm)-mEis*cwas*(Tm-TEis))/mEis\n",
    "q2 = ((mwas * cwas + c)*(Twas-Tm)-mEis*cwas*(Tm-TEis))/mEis\n",
    "\n",
    "q1 = lambdify([mEis,c,TEis,Tm,Twas,mwas],q1)\n",
    "print(q1(0.0538,121.32,0,22.2,30.9,0.6008))"
   ]
  },
  {
   "cell_type": "code",
   "execution_count": 8,
   "metadata": {},
   "outputs": [],
   "source": [
    "q_diffmEis = q2.diff(mEis)\n",
    "q_diffc = q2.diff(c)\n",
    "q_diffTEis = q2.diff(TEis)\n",
    "q_diffTm = q2.diff(Tm)\n",
    "q_diffTwas = q2.diff(Twas)\n",
    "q_diffmwas = q2.diff(mwas)"
   ]
  },
  {
   "cell_type": "code",
   "execution_count": 14,
   "metadata": {},
   "outputs": [
    {
     "data": {
      "text/latex": [
       "$\\displaystyle \\frac{4190 TEis - 4190 Tm}{mEis} - \\frac{- 4190 mEis \\left(- TEis + Tm\\right) + \\left(- Tm + Twas\\right) \\left(c + 4190 mwas\\right)}{mEis^{2}}$"
      ],
      "text/plain": [
       "(4190*TEis - 4190*Tm)/mEis - (-4190*mEis*(-TEis + Tm) + (-Tm + Twas)*(c + 4190*mwas))/mEis**2"
      ]
     },
     "execution_count": 14,
     "metadata": {},
     "output_type": "execute_result"
    }
   ],
   "source": [
    "q_diffmEis"
   ]
  },
  {
   "cell_type": "code",
   "execution_count": 15,
   "metadata": {},
   "outputs": [
    {
     "data": {
      "text/latex": [
       "$\\displaystyle \\frac{- Tm + Twas}{mEis}$"
      ],
      "text/plain": [
       "(-Tm + Twas)/mEis"
      ]
     },
     "execution_count": 15,
     "metadata": {},
     "output_type": "execute_result"
    }
   ],
   "source": [
    "q_diffc"
   ]
  },
  {
   "cell_type": "code",
   "execution_count": 16,
   "metadata": {},
   "outputs": [
    {
     "data": {
      "text/latex": [
       "$\\displaystyle 4190$"
      ],
      "text/plain": [
       "4190"
      ]
     },
     "execution_count": 16,
     "metadata": {},
     "output_type": "execute_result"
    }
   ],
   "source": [
    "q_diffTEis"
   ]
  },
  {
   "cell_type": "code",
   "execution_count": 17,
   "metadata": {},
   "outputs": [
    {
     "data": {
      "text/latex": [
       "$\\displaystyle \\frac{- c - 4190 mEis - 4190 mwas}{mEis}$"
      ],
      "text/plain": [
       "(-c - 4190*mEis - 4190*mwas)/mEis"
      ]
     },
     "execution_count": 17,
     "metadata": {},
     "output_type": "execute_result"
    }
   ],
   "source": [
    "q_diffTm"
   ]
  },
  {
   "cell_type": "code",
   "execution_count": 18,
   "metadata": {},
   "outputs": [
    {
     "data": {
      "text/latex": [
       "$\\displaystyle \\frac{c + 4190 mwas}{mEis}$"
      ],
      "text/plain": [
       "(c + 4190*mwas)/mEis"
      ]
     },
     "execution_count": 18,
     "metadata": {},
     "output_type": "execute_result"
    }
   ],
   "source": [
    "q_diffTwas"
   ]
  },
  {
   "cell_type": "code",
   "execution_count": 19,
   "metadata": {},
   "outputs": [
    {
     "data": {
      "text/latex": [
       "$\\displaystyle \\frac{- 4190 Tm + 4190 Twas}{mEis}$"
      ],
      "text/plain": [
       "(-4190*Tm + 4190*Twas)/mEis"
      ]
     },
     "execution_count": 19,
     "metadata": {},
     "output_type": "execute_result"
    }
   ],
   "source": [
    "q_diffmwas"
   ]
  },
  {
   "cell_type": "code",
   "execution_count": 23,
   "metadata": {},
   "outputs": [
    {
     "name": "stdout",
     "output_type": "stream",
     "text": [
      "15023.644511546274\n"
     ]
    }
   ],
   "source": [
    "mistake = Abs(q_diffmEis) * 0.0001 +  Abs(q_diffc) * 21.74 + Abs(q_diffTEis) * 0.1 + Abs(q_diffTm) * 0.1 + Abs(q_diffTwas) * 0.1 + Abs(q_diffmwas) * 0.0001\n",
    "mistake = lambdify([mEis,c,TEis,Tm,Twas,mwas],mistake)\n",
    "print(mistake(0.0538,121.32,0,22.2,30.9,0.6008))"
   ]
  },
  {
   "cell_type": "code",
   "execution_count": 85,
   "metadata": {},
   "outputs": [
    {
     "data": {
      "image/png": "[encoded data removed]",
      "text/plain": [
       "<Figure size 432x288 with 1 Axes>"
      ]
     },
     "metadata": {
      "needs_background": "light"
     },
     "output_type": "display_data"
    }
   ],
   "source": [
    "import numpy as np\n",
    "from matplotlib import pyplot as plot\n",
    "from scipy.optimize import curve_fit\n",
    "\n",
    "beamData4 = np.loadtxt(\"W1a_4_data.csv\", delimiter=\",\")\n",
    "\n",
    "#plot.plot(beamData[:,1],beamData[:,0],'.',label=\"Geschwindigkeitsmessungen\")\n",
    "s = 0\n",
    "\n",
    "#plot.plot((beamData[:,0]),(beamData[:,1]-s),label=\"Schwingungskurve\",linewidth=0.7)\n",
    "plot.title(\"\")\n",
    "xerr = [0.1 for i in range(1,52)]\n",
    "yerr = [0.1 for i in range(1,52)]\n",
    "#plot.axis([0, 3800, -100, 100])\n",
    "plot.errorbar((beamData4[:,0]),(beamData4[:,1]-s),yerr,xerr,fmt='o',markersize=3,label=\"Temperaturmessungen mit Fehler\",color=\"Black\")\n",
    "plot.grid(True)\n",
    "plot.xlabel(\"Zeit t in $s$\")\n",
    "plot.ylabel(\"Temperatur T im Kalorimeter in $°C$\")\n",
    "plot.legend()\n",
    "plot.show()"
   ]
  },
  {
   "cell_type": "code",
   "execution_count": 27,
   "metadata": {},
   "outputs": [
    {
     "name": "stdout",
     "output_type": "stream",
     "text": [
      "2018563.622562674\n",
      "29645.84627097865\n"
     ]
    }
   ],
   "source": [
    "from sympy import *\n",
    "\n",
    "c = Symbol('c')\n",
    "Td = Symbol('Td')\n",
    "Tm = Symbol('Tm')\n",
    "Twas = Symbol('Twas')\n",
    "md = Symbol('md')\n",
    "mwas = Symbol('mwas')\n",
    "cwas = 4190\n",
    "\n",
    "q1 = (((mwas * cwas + c)/md) * (Tm-Twas)) - (cwas * (Td - Tm))\n",
    "q2 = (((mwas * cwas + c)/md) * (Tm-Twas)) - (cwas * (Td - Tm))\n",
    "\n",
    "q1 = lambdify([md,c,Td,Tm,Twas,mwas],q1)\n",
    "print(q1(0.0718,121.32,100,82.3,18.2,0.5305))\n",
    "\n",
    "q_diffmd = q2.diff(md)\n",
    "q_diffc = q2.diff(c)\n",
    "q_diffTm = q2.diff(Tm)\n",
    "q_diffTwas = q2.diff(Twas)\n",
    "q_diffmwas = q2.diff(mwas)\n",
    "\n",
    "mistake = Abs(q_diffmd) * 0.0001 +  Abs(q_diffc) * 21.74 + Abs(q_diffTm) * 0.1 + Abs(q_diffTwas) * 0.1 + Abs(q_diffmwas) * 0.0001\n",
    "mistake = lambdify([md,c,Td,Tm,Twas,mwas],mistake)\n",
    "print(mistake(0.0718,121.32,100,82.3,18.2,0.5305))"
   ]
  }
 ],
 "metadata": {
  "kernelspec": {
   "display_name": "Python 3",
   "language": "python",
   "name": "python3"
  },
  "language_info": {
   "codemirror_mode": {
    "name": "ipython",
    "version": 3
   },
   "file_extension": ".py",
   "mimetype": "text/x-python",
   "name": "python",
   "nbconvert_exporter": "python",
   "pygments_lexer": "ipython3",
   "version": "3.7.4"
  }
 },
 "nbformat": 4,
 "nbformat_minor": 2
}
